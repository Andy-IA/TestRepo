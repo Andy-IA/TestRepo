{
  "metadata": {
    "kernelspec": {
      "name": "python",
      "display_name": "Python (Pyodide)",
      "language": "python"
    },
    "language_info": {
      "codemirror_mode": {
        "name": "python",
        "version": 3
      },
      "file_extension": ".py",
      "mimetype": "text/x-python",
      "name": "python",
      "nbconvert_exporter": "python",
      "pygments_lexer": "ipython3",
      "version": "3.8"
    }
  },
  "nbformat_minor": 5,
  "nbformat": 4,
  "cells": [
    {
      "id": "e4a2fa36-2c5f-46c5-98a1-30d873a70ba3",
      "cell_type": "code",
      "source": "# Criar célula Markdown com título H1\nfrom IPython.display import Markdown, display\ndisplay(Markdown(\"# Data Science Tools and Ecosystem\"))\n# Screenshot: Salve como '2-title.png'\n\n# Criar célula Markdown com introdução\ndisplay(Markdown(\"In this notebook, Data Science Tools and Ecosystem are summarized.\"))\n# Screenshot: Salve como '3-intro.png'\n\n# Criar célula Markdown com lista de linguagens\ndisplay(Markdown(\"\"\"\nSome of the popular languages that Data Scientists use are:\n1. Python\n2. R\n3. SQL\n\"\"\"))\n# Screenshot: Salve como '4-dslanguages.png'\n\n# Criar célula Markdown com lista de bibliotecas\ndisplay(Markdown(\"\"\"\nSome of the commonly used libraries used by Data Scientists include:\n1. Pandas\n2. NumPy\n3. Matplotlib\n\"\"\"))\n# Screenshot: Salve como '5-dslibraries.png'\n\n# Criar célula Markdown com tabela de ferramentas\ndisplay(Markdown(\"\"\"\n| Data Science Tools |\n|---------------------|\n| Jupyter Notebook    |\n| RStudio             |\n| Apache Zeppelin     |\n\"\"\"))\n# Screenshot: Salve como '6-dstools.png'\n\n# Criar célula Markdown com título para exemplos de expressões aritméticas\ndisplay(Markdown(\"### Below are a few examples of evaluating arithmetic expressions in Python\"))\n# Screenshot: Salve como '7-introarithmetic.png'\n\n# Criar célula de código para multiplicação e adição de números\nprint(\"# This is a simple arithmetic expression to multiply then add integers\")\nprint((3*4)+5)\n# Screenshot: Salve como '8-multiplyandaddintegers.png'\n\n# Criar célula de código para converter minutos para horas\nprint(\"# This will convert 200 minutes to hours by dividing by 60\")\nprint(200 / 60)\n# Screenshot: Salve como '9-hourstominutes.png'\n\n# Criar célula Markdown com lista de objetivos\ndisplay(Markdown(\"\"\"\n**Objectives:**\n- List popular languages for Data Science\n- Describe common libraries used in Data Science\n- Illustrate open-source tools for development\n\"\"\"))\n# Screenshot: Salve como '10-objectives.png'\n\n# Criar célula Markdown para incluir o nome do autor\ndisplay(Markdown(\"\"\"\n## Author\nAnderson M.\n\"\"\"))\n# Screenshot: Salve como '11-authordetails.png'\n",
      "metadata": {
        "trusted": true,
        "collapsed": true,
        "jupyter": {
          "outputs_hidden": true
        }
      },
      "outputs": [
        {
          "output_type": "display_data",
          "data": {
            "text/plain": "<IPython.core.display.Markdown object>",
            "text/markdown": "# Data Science Tools and Ecosystem"
          },
          "metadata": {}
        },
        {
          "output_type": "display_data",
          "data": {
            "text/plain": "<IPython.core.display.Markdown object>",
            "text/markdown": "In this notebook, Data Science Tools and Ecosystem are summarized."
          },
          "metadata": {}
        },
        {
          "output_type": "display_data",
          "data": {
            "text/plain": "<IPython.core.display.Markdown object>",
            "text/markdown": "\nSome of the popular languages that Data Scientists use are:\n1. Python\n2. R\n3. SQL\n"
          },
          "metadata": {}
        },
        {
          "output_type": "display_data",
          "data": {
            "text/plain": "<IPython.core.display.Markdown object>",
            "text/markdown": "\nSome of the commonly used libraries used by Data Scientists include:\n1. Pandas\n2. NumPy\n3. Matplotlib\n"
          },
          "metadata": {}
        },
        {
          "output_type": "display_data",
          "data": {
            "text/plain": "<IPython.core.display.Markdown object>",
            "text/markdown": "\n| Data Science Tools |\n|---------------------|\n| Jupyter Notebook    |\n| RStudio             |\n| Apache Zeppelin     |\n"
          },
          "metadata": {}
        },
        {
          "output_type": "display_data",
          "data": {
            "text/plain": "<IPython.core.display.Markdown object>",
            "text/markdown": "### Below are a few examples of evaluating arithmetic expressions in Python"
          },
          "metadata": {}
        },
        {
          "name": "stdout",
          "output_type": "stream",
          "text": "# This is a simple arithmetic expression to multiply then add integers\n17\n# This will convert 200 minutes to hours by dividing by 60\n3.3333333333333335\n"
        },
        {
          "output_type": "display_data",
          "data": {
            "text/plain": "<IPython.core.display.Markdown object>",
            "text/markdown": "\n**Objectives:**\n- List popular languages for Data Science\n- Describe common libraries used in Data Science\n- Illustrate open-source tools for development\n"
          },
          "metadata": {}
        },
        {
          "output_type": "display_data",
          "data": {
            "text/plain": "<IPython.core.display.Markdown object>",
            "text/markdown": "\n## Author\nAnderson M.\n"
          },
          "metadata": {}
        }
      ],
      "execution_count": 6
    },
    {
      "id": "195d8fae-9c47-4e71-8cf6-3350d5c37a38",
      "cell_type": "code",
      "source": "# Criar célula Markdown com título H1\nfrom IPython.display import Markdown, display\ndisplay(Markdown(\"# Data Science Tools and Ecosystem\"))\n# Screenshot: Salve como '2-title.png'\n\n# Criar célula Markdown com introdução\ndisplay(Markdown(\"In this notebook, Data Science Tools and Ecosystem are summarized.\"))\n# Screenshot: Salve como '3-intro.png'\n\n# Criar célula Markdown com lista de linguagens\ndisplay(Markdown(\"\"\"\nSome of the popular languages that Data Scientists use are:\n1. Python\n2. R\n3. SQL\n\"\"\"))\n# Screenshot: Salve como '4-dslanguages.png'\n\n# Criar célula Markdown com lista de bibliotecas\ndisplay(Markdown(\"\"\"\nSome of the commonly used libraries used by Data Scientists include:\n1. Pandas\n2. NumPy\n3. Matplotlib\n\"\"\"))\n# Screenshot: Salve como '5-dslibraries.png'\n\n# Criar célula Markdown com tabela de ferramentas\ndisplay(Markdown(\"\"\"\n| Data Science Tools |\n|---------------------|\n| Jupyter Notebook    |\n| RStudio             |\n| Apache Zeppelin     |\n\"\"\"))\n# Screenshot: Salve como '6-dstools.png'\n\n# Criar célula Markdown com título para exemplos de expressões aritméticas\ndisplay(Markdown(\"### Below are a few examples of evaluating arithmetic expressions in Python\"))\n# Screenshot: Salve como '7-introarithmetic.png'\n\n# Criar célula de código para multiplicação e adição de números\nprint(\"# This is a simple arithmetic expression to multiply then add integers\")\nprint((3*4)+5)\n# Screenshot: Salve como '8-multiplyandaddintegers.png'\n\n# Criar célula de código para converter minutos para horas\nprint(\"# This will convert 200 minutes to hours by dividing by 60\")\nprint(200 / 60)\n# Screenshot: Salve como '9-hourstominutes.png'\n\n# Criar célula Markdown com lista de objetivos\ndisplay(Markdown(\"\"\"\n**Objectives:**\n- List popular languages for Data Science\n- Describe common libraries used in Data Science\n- Illustrate open-source tools for development\n\"\"\"))\n# Screenshot: Salve como '10-objectives.png'\n\n# Criar célula Markdown para incluir o nome do autor\ndisplay(Markdown(\"\"\"\n## Author\nAnderson M.\n\"\"\"))\n# Screenshot: Salve como '11-authordetails.png'\n",
      "metadata": {
        "trusted": true
      },
      "outputs": [
        {
          "output_type": "display_data",
          "data": {
            "text/plain": "<IPython.core.display.Markdown object>",
            "text/markdown": "# Data Science Tools and Ecosystem"
          },
          "metadata": {}
        },
        {
          "output_type": "display_data",
          "data": {
            "text/plain": "<IPython.core.display.Markdown object>",
            "text/markdown": "In this notebook, Data Science Tools and Ecosystem are summarized."
          },
          "metadata": {}
        },
        {
          "output_type": "display_data",
          "data": {
            "text/plain": "<IPython.core.display.Markdown object>",
            "text/markdown": "\nSome of the popular languages that Data Scientists use are:\n1. Python\n2. R\n3. SQL\n"
          },
          "metadata": {}
        },
        {
          "output_type": "display_data",
          "data": {
            "text/plain": "<IPython.core.display.Markdown object>",
            "text/markdown": "\nSome of the commonly used libraries used by Data Scientists include:\n1. Pandas\n2. NumPy\n3. Matplotlib\n"
          },
          "metadata": {}
        },
        {
          "output_type": "display_data",
          "data": {
            "text/plain": "<IPython.core.display.Markdown object>",
            "text/markdown": "\n| Data Science Tools |\n|---------------------|\n| Jupyter Notebook    |\n| RStudio             |\n| Apache Zeppelin     |\n"
          },
          "metadata": {}
        },
        {
          "output_type": "display_data",
          "data": {
            "text/plain": "<IPython.core.display.Markdown object>",
            "text/markdown": "### Below are a few examples of evaluating arithmetic expressions in Python"
          },
          "metadata": {}
        },
        {
          "name": "stdout",
          "output_type": "stream",
          "text": "# This is a simple arithmetic expression to multiply then add integers\n17\n# This will convert 200 minutes to hours by dividing by 60\n3.3333333333333335\n"
        },
        {
          "output_type": "display_data",
          "data": {
            "text/plain": "<IPython.core.display.Markdown object>",
            "text/markdown": "\n**Objectives:**\n- List popular languages for Data Science\n- Describe common libraries used in Data Science\n- Illustrate open-source tools for development\n"
          },
          "metadata": {}
        },
        {
          "output_type": "display_data",
          "data": {
            "text/plain": "<IPython.core.display.Markdown object>",
            "text/markdown": "\n## Author\nAnderson M.\n"
          },
          "metadata": {}
        }
      ],
      "execution_count": 7
    },
    {
      "id": "9518e9bb-188e-4b3c-b41a-8776374ba4f9",
      "cell_type": "code",
      "source": "",
      "metadata": {
        "trusted": true
      },
      "outputs": [],
      "execution_count": null
    }
  ]
}